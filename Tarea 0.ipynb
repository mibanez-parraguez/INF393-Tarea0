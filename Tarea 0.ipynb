{
 "cells": [
  {
   "cell_type": "markdown",
   "metadata": {},
   "source": [
    "<img src=\"http://www.exalumnos.usm.cl/wp-content/uploads/2015/06/Isotipo-Negro.gif\" title=\"Title text\" width=\"20%\" height=\"20%\" />\n",
    "\n",
    "\n",
    "<hr style=\"height:2px;border:none\"/>\n",
    "<h1 align='center'> INF-393 Máquinas de Aprendizaje II-2018 </h1>\n",
    "\n",
    "<H3 align='center'> Tarea 0 - Introducción a Máquinas de Aprendizaje </H3>\n",
    "<hr style=\"height:2px;border:none\"/>\n",
    "\n",
    "Integrantes:\n",
    "- Diego Jara - \n",
    "- Miguel Ibáñez - 2990010-8"
   ]
  },
  {
   "cell_type": "code",
   "execution_count": 2,
   "metadata": {
    "collapsed": true
   },
   "outputs": [],
   "source": [
    "import re, time\n",
    "import numpy as np\n",
    "import pandas as pd\n",
    "\n",
    "from sklearn.feature_extraction.text import CountVectorizer\n",
    "from sklearn.linear_model import LinearRegression as LR\n",
    "from sklearn.metrics import mean_absolute_error #measure MAE\n",
    "\n",
    "from nltk.corpus import stopwords\n",
    "from nltk import WordNetLemmatizer, word_tokenize\n",
    "from nltk.stem.porter import PorterStemmer"
   ]
  },
  {
   "cell_type": "markdown",
   "metadata": {
    "collapsed": true
   },
   "source": [
    "## 2. Job Salary Prediction"
   ]
  },
  {
   "cell_type": "markdown",
   "metadata": {},
   "source": [
    "** a) Lectura de data y sets **"
   ]
  },
  {
   "cell_type": "code",
   "execution_count": 5,
   "metadata": {
    "collapsed": false
   },
   "outputs": [],
   "source": [
    "df = pd.read_csv(\"Train_rev1.csv\")\n",
    "\n",
    "df_train = df.iloc[:-20000] # Train set\n",
    "df_val = df.iloc[-10000:] # Validation set\n",
    "df_test = df.iloc[-20000:-10000] # Test set\n",
    "\n",
    "msk = np.random.rand(len(df_train)) < 0.1 # Sample del train dataset\n",
    "df_train_subset = df_train[msk]"
   ]
  },
  {
   "cell_type": "code",
   "execution_count": 6,
   "metadata": {
    "collapsed": false
   },
   "outputs": [
    {
     "name": "stdout",
     "output_type": "stream",
     "text": [
      "Train dataset shape:(22692, 12)\n",
      "Test dataset shape:(10000, 12)\n",
      "<class 'pandas.core.frame.DataFrame'>\n",
      "Int64Index: 22692 entries, 0 to 224764\n",
      "Data columns (total 12 columns):\n",
      "Id                    22692 non-null int64\n",
      "Title                 22692 non-null object\n",
      "FullDescription       22692 non-null object\n",
      "LocationRaw           22692 non-null object\n",
      "LocationNormalized    22692 non-null object\n",
      "ContractType          6283 non-null object\n",
      "ContractTime          16573 non-null object\n",
      "Company               19445 non-null object\n",
      "Category              22692 non-null object\n",
      "SalaryRaw             22692 non-null object\n",
      "SalaryNormalized      22692 non-null int64\n",
      "SourceName            22692 non-null object\n",
      "dtypes: int64(2), object(10)\n",
      "memory usage: 2.3+ MB\n",
      "None\n"
     ]
    }
   ],
   "source": [
    "print(\"Train dataset shape:{}\".format(df_train_subset.shape))\n",
    "print(\"Test dataset shape:{}\".format(df_test.shape))\n",
    "print(df_train_subset.info())"
   ]
  },
  {
   "cell_type": "code",
   "execution_count": 7,
   "metadata": {
    "collapsed": false
   },
   "outputs": [
    {
     "data": {
      "text/html": [
       "<div>\n",
       "<style scoped>\n",
       "    .dataframe tbody tr th:only-of-type {\n",
       "        vertical-align: middle;\n",
       "    }\n",
       "\n",
       "    .dataframe tbody tr th {\n",
       "        vertical-align: top;\n",
       "    }\n",
       "\n",
       "    .dataframe thead th {\n",
       "        text-align: right;\n",
       "    }\n",
       "</style>\n",
       "<table border=\"1\" class=\"dataframe\">\n",
       "  <thead>\n",
       "    <tr style=\"text-align: right;\">\n",
       "      <th></th>\n",
       "      <th>Id</th>\n",
       "      <th>Title</th>\n",
       "      <th>FullDescription</th>\n",
       "      <th>LocationRaw</th>\n",
       "      <th>LocationNormalized</th>\n",
       "      <th>ContractType</th>\n",
       "      <th>ContractTime</th>\n",
       "      <th>Company</th>\n",
       "      <th>Category</th>\n",
       "      <th>SalaryRaw</th>\n",
       "      <th>SalaryNormalized</th>\n",
       "      <th>SourceName</th>\n",
       "    </tr>\n",
       "  </thead>\n",
       "  <tbody>\n",
       "    <tr>\n",
       "      <th>0</th>\n",
       "      <td>12612628</td>\n",
       "      <td>Engineering Systems Analyst</td>\n",
       "      <td>Engineering Systems Analyst Dorking Surrey Sal...</td>\n",
       "      <td>Dorking, Surrey, Surrey</td>\n",
       "      <td>Dorking</td>\n",
       "      <td>NaN</td>\n",
       "      <td>permanent</td>\n",
       "      <td>Gregory Martin International</td>\n",
       "      <td>Engineering Jobs</td>\n",
       "      <td>20000 - 30000/annum 20-30K</td>\n",
       "      <td>25000</td>\n",
       "      <td>cv-library.co.uk</td>\n",
       "    </tr>\n",
       "    <tr>\n",
       "      <th>1</th>\n",
       "      <td>12612830</td>\n",
       "      <td>Stress Engineer Glasgow</td>\n",
       "      <td>Stress Engineer Glasgow Salary **** to **** We...</td>\n",
       "      <td>Glasgow, Scotland, Scotland</td>\n",
       "      <td>Glasgow</td>\n",
       "      <td>NaN</td>\n",
       "      <td>permanent</td>\n",
       "      <td>Gregory Martin International</td>\n",
       "      <td>Engineering Jobs</td>\n",
       "      <td>25000 - 35000/annum 25-35K</td>\n",
       "      <td>30000</td>\n",
       "      <td>cv-library.co.uk</td>\n",
       "    </tr>\n",
       "    <tr>\n",
       "      <th>2</th>\n",
       "      <td>12612844</td>\n",
       "      <td>Modelling and simulation analyst</td>\n",
       "      <td>Mathematical Modeller / Simulation Analyst / O...</td>\n",
       "      <td>Hampshire, South East, South East</td>\n",
       "      <td>Hampshire</td>\n",
       "      <td>NaN</td>\n",
       "      <td>permanent</td>\n",
       "      <td>Gregory Martin International</td>\n",
       "      <td>Engineering Jobs</td>\n",
       "      <td>20000 - 40000/annum 20-40K</td>\n",
       "      <td>30000</td>\n",
       "      <td>cv-library.co.uk</td>\n",
       "    </tr>\n",
       "    <tr>\n",
       "      <th>8</th>\n",
       "      <td>14663197</td>\n",
       "      <td>RECRUITMENT CONSULTANT  CONSTRUCTION / TECHNIC...</td>\n",
       "      <td>This is an exceptional opportunity to join a c...</td>\n",
       "      <td>LEEDS, West Yorkshire</td>\n",
       "      <td>Leeds</td>\n",
       "      <td>NaN</td>\n",
       "      <td>permanent</td>\n",
       "      <td>Code Blue Recruitment</td>\n",
       "      <td>HR &amp; Recruitment Jobs</td>\n",
       "      <td>18000 - 28000/annum 18 - 28K BASIC + COMM + BENS</td>\n",
       "      <td>23000</td>\n",
       "      <td>cv-library.co.uk</td>\n",
       "    </tr>\n",
       "    <tr>\n",
       "      <th>14</th>\n",
       "      <td>20797143</td>\n",
       "      <td>Chef de Partie  Award Winning Restaurant  Exce...</td>\n",
       "      <td>A well respected restaurant located in the Der...</td>\n",
       "      <td>Derby Derbyshire East Midlands</td>\n",
       "      <td>Derby</td>\n",
       "      <td>NaN</td>\n",
       "      <td>NaN</td>\n",
       "      <td>Chef Results</td>\n",
       "      <td>Hospitality &amp; Catering Jobs</td>\n",
       "      <td>Upto 16,000 per annum + Tips (IRO 3K Per Annum)</td>\n",
       "      <td>16000</td>\n",
       "      <td>caterer.com</td>\n",
       "    </tr>\n",
       "  </tbody>\n",
       "</table>\n",
       "</div>"
      ],
      "text/plain": [
       "          Id                                              Title  \\\n",
       "0   12612628                        Engineering Systems Analyst   \n",
       "1   12612830                            Stress Engineer Glasgow   \n",
       "2   12612844                   Modelling and simulation analyst   \n",
       "8   14663197  RECRUITMENT CONSULTANT  CONSTRUCTION / TECHNIC...   \n",
       "14  20797143  Chef de Partie  Award Winning Restaurant  Exce...   \n",
       "\n",
       "                                      FullDescription  \\\n",
       "0   Engineering Systems Analyst Dorking Surrey Sal...   \n",
       "1   Stress Engineer Glasgow Salary **** to **** We...   \n",
       "2   Mathematical Modeller / Simulation Analyst / O...   \n",
       "8   This is an exceptional opportunity to join a c...   \n",
       "14  A well respected restaurant located in the Der...   \n",
       "\n",
       "                          LocationRaw LocationNormalized ContractType  \\\n",
       "0             Dorking, Surrey, Surrey            Dorking          NaN   \n",
       "1         Glasgow, Scotland, Scotland            Glasgow          NaN   \n",
       "2   Hampshire, South East, South East          Hampshire          NaN   \n",
       "8               LEEDS, West Yorkshire              Leeds          NaN   \n",
       "14     Derby Derbyshire East Midlands              Derby          NaN   \n",
       "\n",
       "   ContractTime                       Company                     Category  \\\n",
       "0     permanent  Gregory Martin International             Engineering Jobs   \n",
       "1     permanent  Gregory Martin International             Engineering Jobs   \n",
       "2     permanent  Gregory Martin International             Engineering Jobs   \n",
       "8     permanent         Code Blue Recruitment        HR & Recruitment Jobs   \n",
       "14          NaN                  Chef Results  Hospitality & Catering Jobs   \n",
       "\n",
       "                                           SalaryRaw  SalaryNormalized  \\\n",
       "0                         20000 - 30000/annum 20-30K             25000   \n",
       "1                         25000 - 35000/annum 25-35K             30000   \n",
       "2                         20000 - 40000/annum 20-40K             30000   \n",
       "8   18000 - 28000/annum 18 - 28K BASIC + COMM + BENS             23000   \n",
       "14   Upto 16,000 per annum + Tips (IRO 3K Per Annum)             16000   \n",
       "\n",
       "          SourceName  \n",
       "0   cv-library.co.uk  \n",
       "1   cv-library.co.uk  \n",
       "2   cv-library.co.uk  \n",
       "8   cv-library.co.uk  \n",
       "14       caterer.com  "
      ]
     },
     "execution_count": 7,
     "metadata": {},
     "output_type": "execute_result"
    }
   ],
   "source": [
    "df_train_subset.head()"
   ]
  },
  {
   "cell_type": "markdown",
   "metadata": {},
   "source": [
    "**b) Extracción de datos**"
   ]
  },
  {
   "cell_type": "code",
   "execution_count": 8,
   "metadata": {
    "collapsed": true
   },
   "outputs": [],
   "source": [
    "txt_raw_train = df_train_subset.FullDescription\n",
    "txt_raw_val = df_val.FullDescription\n",
    "txt_raw_test = df_test.FullDescription\n",
    "\n",
    "salary_train = np.asarray(df_train_subset[\"SalaryNormalized\"])\n",
    "salary_val = np.asarray(df_val[\"SalaryNormalized\"])\n",
    "salary_test = np.asarray(df_test[\"SalaryNormalized\"])"
   ]
  },
  {
   "cell_type": "markdown",
   "metadata": {},
   "source": [
    "**c) Pre-procesamiento**"
   ]
  },
  {
   "cell_type": "code",
   "execution_count": 9,
   "metadata": {
    "collapsed": true
   },
   "outputs": [],
   "source": [
    "def word_extractor(text):\n",
    "    wordstemmer = PorterStemmer()\n",
    "    commonwords = stopwords.words('english')\n",
    "    text = re.sub(r'([a-z])\\1+', r'\\1\\1',text)#substitute multiple letter by two\n",
    "    words = \"\"\n",
    "    wordtokens = [ wordstemmer.stem(word.lower())for word in word_tokenize(text) ]\n",
    "    for word in wordtokens:\n",
    "        if word not in commonwords:\n",
    "            words+=\" \"+word\n",
    "    return words"
   ]
  },
  {
   "cell_type": "code",
   "execution_count": 11,
   "metadata": {
    "collapsed": false
   },
   "outputs": [],
   "source": [
    "texts_train = [word_extractor(text) for text in txt_raw_train]\n",
    "texts_val = [word_extractor(text) for text in txt_raw_val]\n",
    "\n",
    "vectorizer1 = CountVectorizer()\n",
    "vectorizer1.fit(np.asarray(texts_train))\n",
    "\n",
    "features_train = vectorizer1.transform(texts_train)\n",
    "features_val = vectorizer1.transform(texts_val)"
   ]
  },
  {
   "cell_type": "markdown",
   "metadata": {},
   "source": [
    "**d) Regresión**"
   ]
  },
  {
   "cell_type": "code",
   "execution_count": 12,
   "metadata": {
    "collapsed": false
   },
   "outputs": [
    {
     "name": "stdout",
     "output_type": "stream",
     "text": [
      "F.O. on train:  3158684806.9\n",
      "F.O. on validation:  8.75063838217e+13\n",
      "\n",
      "MAE on train:  21.0737930613\n",
      "MAE on validation:  63752.3262719\n"
     ]
    }
   ],
   "source": [
    "model = LR(fit_intercept=True, normalize=False)\n",
    "model.fit(features_train,salary_train)\n",
    "\n",
    "LR_fo = lambda x,y: sum((x-y)**2)\n",
    "print(\"F.O. on train: \",LR_fo(salary_train, model.predict(features_train)))\n",
    "print(\"F.O. on validation: \",LR_fo(salary_val, model.predict(features_val)))\n",
    "print()\n",
    "\n",
    "print(\"MAE on train: \",mean_absolute_error(salary_train, model.predict(features_train)))\n",
    "print(\"MAE on validation: \",mean_absolute_error(salary_val, model.predict(features_val)))"
   ]
  }
 ],
 "metadata": {
  "kernelspec": {
   "display_name": "Python [Root]",
   "language": "python",
   "name": "Python [Root]"
  },
  "language_info": {
   "codemirror_mode": {
    "name": "ipython",
    "version": 3
   },
   "file_extension": ".py",
   "mimetype": "text/x-python",
   "name": "python",
   "nbconvert_exporter": "python",
   "pygments_lexer": "ipython3",
   "version": "3.5.2"
  }
 },
 "nbformat": 4,
 "nbformat_minor": 0
}
