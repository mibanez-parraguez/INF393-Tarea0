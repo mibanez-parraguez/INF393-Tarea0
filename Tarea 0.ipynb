{
 "cells": [
  {
   "cell_type": "markdown",
   "metadata": {},
   "source": [
    "<img src=\"http://www.exalumnos.usm.cl/wp-content/uploads/2015/06/Isotipo-Negro.gif\" title=\"Title text\" width=\"20%\" height=\"20%\" />\n",
    "\n",
    "\n",
    "<hr style=\"height:2px;border:none\"/>\n",
    "<h1 align='center'> INF-393 Máquinas de Aprendizaje II-2018 </h1>\n",
    "\n",
    "<H3 align='center'> Tarea 0 - Introducción a Máquinas de Aprendizaje </H3>\n",
    "<hr style=\"height:2px;border:none\"/>\n",
    "\n",
    "Integrantes:\n",
    "- Diego Jara -\n",
    "- Miguel Ibáñez - 2990010-8"
   ]
  },
  {
   "cell_type": "code",
   "execution_count": 1,
   "metadata": {
    "collapsed": true
   },
   "outputs": [],
   "source": [
    "import re, time\n",
    "import numpy as np\n",
    "import pandas as pd\n",
    "\n",
    "from sklearn.feature_extraction.text import CountVectorizer\n",
    "from sklearn.linear_model import LinearRegression as LR\n",
    "from sklearn.metrics import mean_absolute_error #measure MAE\n",
    "\n",
    "from nltk.corpus import stopwords\n",
    "from nltk import WordNetLemmatizer, word_tokenize"
   ]
  },
  {
   "cell_type": "markdown",
   "metadata": {
    "collapsed": true
   },
   "source": [
    "## 2. Job Salary Prediction"
   ]
  },
  {
   "cell_type": "markdown",
   "metadata": {},
   "source": [
    "** a) Lectura de data y sets **"
   ]
  },
  {
   "cell_type": "code",
   "execution_count": 2,
   "metadata": {
    "collapsed": false
   },
   "outputs": [],
   "source": [
    "df = pd.read_csv(\"Train_rev1.csv\")\n",
    "\n",
    "df_train = df.iloc[:-20000] # Train set\n",
    "df_val = df.iloc[-10000:] # Validation set\n",
    "df_test = df.iloc[-20000:-10000] # Test set\n",
    "\n",
    "msk = np.random.rand(len(df_train)) < 0.05 # Sample del train dataset\n",
    "df_train_subset = df_train[msk]"
   ]
  },
  {
   "cell_type": "code",
   "execution_count": 3,
   "metadata": {
    "collapsed": false
   },
   "outputs": [
    {
     "name": "stdout",
     "output_type": "stream",
     "text": [
      "Train dataset shape:(11282, 12)\n",
      "Test dataset shape:(10000, 12)\n",
      "<class 'pandas.core.frame.DataFrame'>\n",
      "Int64Index: 11282 entries, 18 to 224753\n",
      "Data columns (total 12 columns):\n",
      "Id                    11282 non-null int64\n",
      "Title                 11282 non-null object\n",
      "FullDescription       11282 non-null object\n",
      "LocationRaw           11282 non-null object\n",
      "LocationNormalized    11282 non-null object\n",
      "ContractType          3110 non-null object\n",
      "ContractTime          8245 non-null object\n",
      "Company               9762 non-null object\n",
      "Category              11282 non-null object\n",
      "SalaryRaw             11282 non-null object\n",
      "SalaryNormalized      11282 non-null int64\n",
      "SourceName            11282 non-null object\n",
      "dtypes: int64(2), object(10)\n",
      "memory usage: 1.1+ MB\n",
      "None\n"
     ]
    }
   ],
   "source": [
    "print(\"Train dataset shape:{}\".format(df_train_subset.shape))\n",
    "print(\"Test dataset shape:{}\".format(df_test.shape))\n",
    "print(df_train_subset.info())"
   ]
  },
  {
   "cell_type": "code",
   "execution_count": 4,
   "metadata": {
    "collapsed": false
   },
   "outputs": [
    {
     "data": {
      "text/html": [
       "<div>\n",
       "<style scoped>\n",
       "    .dataframe tbody tr th:only-of-type {\n",
       "        vertical-align: middle;\n",
       "    }\n",
       "\n",
       "    .dataframe tbody tr th {\n",
       "        vertical-align: top;\n",
       "    }\n",
       "\n",
       "    .dataframe thead th {\n",
       "        text-align: right;\n",
       "    }\n",
       "</style>\n",
       "<table border=\"1\" class=\"dataframe\">\n",
       "  <thead>\n",
       "    <tr style=\"text-align: right;\">\n",
       "      <th></th>\n",
       "      <th>Id</th>\n",
       "      <th>Title</th>\n",
       "      <th>FullDescription</th>\n",
       "      <th>LocationRaw</th>\n",
       "      <th>LocationNormalized</th>\n",
       "      <th>ContractType</th>\n",
       "      <th>ContractTime</th>\n",
       "      <th>Company</th>\n",
       "      <th>Category</th>\n",
       "      <th>SalaryRaw</th>\n",
       "      <th>SalaryNormalized</th>\n",
       "      <th>SourceName</th>\n",
       "    </tr>\n",
       "  </thead>\n",
       "  <tbody>\n",
       "    <tr>\n",
       "      <th>18</th>\n",
       "      <td>23528672</td>\n",
       "      <td>Senior Fatigue and Damage Tolerance Engineer</td>\n",
       "      <td>Senior Fatigue Static stress (metallic or comp...</td>\n",
       "      <td>Avon, South West</td>\n",
       "      <td>Avon</td>\n",
       "      <td>NaN</td>\n",
       "      <td>permanent</td>\n",
       "      <td>Gregory Martin International</td>\n",
       "      <td>Engineering Jobs</td>\n",
       "      <td>34000 - 45000/annum to 45K</td>\n",
       "      <td>39500</td>\n",
       "      <td>cv-library.co.uk</td>\n",
       "    </tr>\n",
       "    <tr>\n",
       "      <th>22</th>\n",
       "      <td>24835524</td>\n",
       "      <td>Senior Control and Instrumentation Engineer</td>\n",
       "      <td>Senior Control and Instrumentation Engineer . ...</td>\n",
       "      <td>Berkshire, South East</td>\n",
       "      <td>Berkshire</td>\n",
       "      <td>NaN</td>\n",
       "      <td>permanent</td>\n",
       "      <td>Gregory Martin International</td>\n",
       "      <td>Engineering Jobs</td>\n",
       "      <td>36000 - 47000/annum 36K-47K</td>\n",
       "      <td>41500</td>\n",
       "      <td>cv-library.co.uk</td>\n",
       "    </tr>\n",
       "    <tr>\n",
       "      <th>49</th>\n",
       "      <td>29571632</td>\n",
       "      <td>Bar/Waiting Staff  The Refectory, Godalming</td>\n",
       "      <td>We are looking for outgoing, friendly people t...</td>\n",
       "      <td>Milford, Surrey</td>\n",
       "      <td>Milford</td>\n",
       "      <td>NaN</td>\n",
       "      <td>permanent</td>\n",
       "      <td>Brunning &amp; Price</td>\n",
       "      <td>Travel Jobs</td>\n",
       "      <td>6.08 per hour</td>\n",
       "      <td>11673</td>\n",
       "      <td>leisurejobs.com</td>\n",
       "    </tr>\n",
       "    <tr>\n",
       "      <th>85</th>\n",
       "      <td>34061974</td>\n",
       "      <td>Senior Mechanical Engineer (Water)</td>\n",
       "      <td>Senior Mechanical Engineer (Water) We are curr...</td>\n",
       "      <td>Avon, South West</td>\n",
       "      <td>Avon</td>\n",
       "      <td>NaN</td>\n",
       "      <td>permanent</td>\n",
       "      <td>Gregory Martin International</td>\n",
       "      <td>Engineering Jobs</td>\n",
       "      <td>32000 - 41000/annum 32K to 41K + benefits</td>\n",
       "      <td>36500</td>\n",
       "      <td>cv-library.co.uk</td>\n",
       "    </tr>\n",
       "    <tr>\n",
       "      <th>155</th>\n",
       "      <td>44325443</td>\n",
       "      <td>New Business Sales  Various  Financial Markets...</td>\n",
       "      <td>Excelsior Professional Search is a leading exe...</td>\n",
       "      <td>London</td>\n",
       "      <td>London</td>\n",
       "      <td>NaN</td>\n",
       "      <td>NaN</td>\n",
       "      <td>Excelsior Professional Search Ltd</td>\n",
       "      <td>Accounting &amp; Finance Jobs</td>\n",
       "      <td>Basic salaries range from 50,000 to 90,000 + C...</td>\n",
       "      <td>70000</td>\n",
       "      <td>eFinancialCareers</td>\n",
       "    </tr>\n",
       "  </tbody>\n",
       "</table>\n",
       "</div>"
      ],
      "text/plain": [
       "           Id                                              Title  \\\n",
       "18   23528672       Senior Fatigue and Damage Tolerance Engineer   \n",
       "22   24835524        Senior Control and Instrumentation Engineer   \n",
       "49   29571632        Bar/Waiting Staff  The Refectory, Godalming   \n",
       "85   34061974                 Senior Mechanical Engineer (Water)   \n",
       "155  44325443  New Business Sales  Various  Financial Markets...   \n",
       "\n",
       "                                       FullDescription            LocationRaw  \\\n",
       "18   Senior Fatigue Static stress (metallic or comp...       Avon, South West   \n",
       "22   Senior Control and Instrumentation Engineer . ...  Berkshire, South East   \n",
       "49   We are looking for outgoing, friendly people t...        Milford, Surrey   \n",
       "85   Senior Mechanical Engineer (Water) We are curr...       Avon, South West   \n",
       "155  Excelsior Professional Search is a leading exe...                 London   \n",
       "\n",
       "    LocationNormalized ContractType ContractTime  \\\n",
       "18                Avon          NaN    permanent   \n",
       "22           Berkshire          NaN    permanent   \n",
       "49             Milford          NaN    permanent   \n",
       "85                Avon          NaN    permanent   \n",
       "155             London          NaN          NaN   \n",
       "\n",
       "                               Company                   Category  \\\n",
       "18        Gregory Martin International           Engineering Jobs   \n",
       "22        Gregory Martin International           Engineering Jobs   \n",
       "49                    Brunning & Price                Travel Jobs   \n",
       "85        Gregory Martin International           Engineering Jobs   \n",
       "155  Excelsior Professional Search Ltd  Accounting & Finance Jobs   \n",
       "\n",
       "                                             SalaryRaw  SalaryNormalized  \\\n",
       "18                          34000 - 45000/annum to 45K             39500   \n",
       "22                         36000 - 47000/annum 36K-47K             41500   \n",
       "49                                       6.08 per hour             11673   \n",
       "85           32000 - 41000/annum 32K to 41K + benefits             36500   \n",
       "155  Basic salaries range from 50,000 to 90,000 + C...             70000   \n",
       "\n",
       "            SourceName  \n",
       "18    cv-library.co.uk  \n",
       "22    cv-library.co.uk  \n",
       "49     leisurejobs.com  \n",
       "85    cv-library.co.uk  \n",
       "155  eFinancialCareers  "
      ]
     },
     "execution_count": 4,
     "metadata": {},
     "output_type": "execute_result"
    }
   ],
   "source": [
    "df_train_subset.head()"
   ]
  },
  {
   "cell_type": "markdown",
   "metadata": {},
   "source": [
    "**b) Extracción de datos**"
   ]
  },
  {
   "cell_type": "code",
   "execution_count": 5,
   "metadata": {
    "collapsed": true
   },
   "outputs": [],
   "source": [
    "txt_raw_train = df_train_subset.FullDescription\n",
    "txt_raw_val = df_val.FullDescription\n",
    "txt_raw_test = df_test.FullDescription\n",
    "\n",
    "salary_train = np.asarray(df_train_subset[\"SalaryNormalized\"])\n",
    "salary_val = np.asarray(df_val[\"SalaryNormalized\"])\n",
    "salary_test = np.asarray(df_test[\"SalaryNormalized\"])"
   ]
  },
  {
   "cell_type": "markdown",
   "metadata": {},
   "source": [
    "**c) Pre-procesamiento**"
   ]
  },
  {
   "cell_type": "code",
   "execution_count": 6,
   "metadata": {
    "collapsed": true
   },
   "outputs": [],
   "source": [
    "def word_extractor(text):\n",
    "    wordlemmatizer = WordNetLemmatizer()\n",
    "    commonwords = stopwords.words('english')\n",
    "    text = re.sub(r'([a-z])\\1+', r'\\1\\1',text)#substitute multiple letter by two\n",
    "    words = \"\"\n",
    "    wordtokens = [ wordlemmatizer.lemmatize(word.lower())for word in word_tokenize(text) ]\n",
    "    for word in wordtokens:\n",
    "        if word not in commonwords:\n",
    "            words+=\" \"+word\n",
    "    return words"
   ]
  },
  {
   "cell_type": "code",
   "execution_count": 7,
   "metadata": {
    "collapsed": false
   },
   "outputs": [],
   "source": [
    "texts_train = [word_extractor(text) for text in txt_raw_train]\n",
    "texts_val = [word_extractor(text) for text in txt_raw_val]\n",
    "\n",
    "vectorizer1 = CountVectorizer()\n",
    "vectorizer1.fit(np.asarray(texts_train))\n",
    "\n",
    "features_train = vectorizer1.transform(texts_train)\n",
    "features_val = vectorizer1.transform(texts_val)"
   ]
  },
  {
   "cell_type": "markdown",
   "metadata": {},
   "source": [
    "**d) Regresión**"
   ]
  },
  {
   "cell_type": "code",
   "execution_count": 8,
   "metadata": {
    "collapsed": false
   },
   "outputs": [
    {
     "name": "stdout",
     "output_type": "stream",
     "text": [
      "F.O. on train:  657784696.644\n",
      "F.O. on validation:  7.4482530436e+12\n",
      "\n",
      "MAE on train:  8.63222102321\n",
      "MAE on validation:  19752.599748\n"
     ]
    }
   ],
   "source": [
    "model = LR(fit_intercept=True, normalize=False)\n",
    "model.fit(features_train,salary_train)\n",
    "\n",
    "LR_fo = lambda x,y: sum((x-y)**2)\n",
    "print(\"F.O. on train: \",LR_fo(salary_train, model.predict(features_train)))\n",
    "print(\"F.O. on validation: \",LR_fo(salary_val, model.predict(features_val)))\n",
    "print()\n",
    "\n",
    "print(\"MAE on train: \",mean_absolute_error(salary_train, model.predict(features_train)))\n",
    "print(\"MAE on validation: \",mean_absolute_error(salary_val, model.predict(features_val)))"
   ]
  },
  {
   "cell_type": "markdown",
   "metadata": {},
   "source": [
    "## 3. Linear Regression by hand"
   ]
  },
  {
   "cell_type": "markdown",
   "metadata": {},
   "source": [
    "**a)** Función de pérdida: error cuadrático medio"
   ]
  },
  {
   "cell_type": "code",
   "execution_count": null,
   "metadata": {
    "collapsed": true
   },
   "outputs": [],
   "source": [
    "def MSE(x, y):\n",
    "    aux = (x-y)**2\n",
    "    if not isinstance(aux, np.ndarray):\n",
    "        return aux\n",
    "    return sum(aux)/len(aux)"
   ]
  },
  {
   "cell_type": "markdown",
   "metadata": {},
   "source": [
    "**b)** Gradiente Estocástico"
   ]
  },
  {
   "cell_type": "code",
   "execution_count": null,
   "metadata": {
    "collapsed": true
   },
   "outputs": [],
   "source": [
    "def stochastic_gradient(x,y,b,n):\n",
    "    idx = np.random.randint(x.shape[0], size=n)\n",
    "    xs = x[idx,:]\n",
    "    ys = y[idx,:]\n",
    "    \n",
    "    e = ys - np.dot(xs,b)\n",
    "    g = np.dot(e,xs)\n",
    "    \n",
    "    return (2*x.shape(0)/n)*sum(g)"
   ]
  },
  {
   "cell_type": "markdown",
   "metadata": {},
   "source": [
    "**c)** Regresión lineal analitica"
   ]
  },
  {
   "cell_type": "code",
   "execution_count": null,
   "metadata": {
    "collapsed": true
   },
   "outputs": [],
   "source": []
  },
  {
   "cell_type": "markdown",
   "metadata": {},
   "source": [
    "**d)** Regresión lineal por SGD"
   ]
  },
  {
   "cell_type": "code",
   "execution_count": null,
   "metadata": {
    "collapsed": true
   },
   "outputs": [],
   "source": [
    "def SGD(b0, eta, N, x, y, n):\n",
    "    b = b0\n",
    "    for i in range(N):\n",
    "        b = b - eta*stochastic_gradient(x,y,b,n)\n",
    "    return N"
   ]
  },
  {
   "cell_type": "markdown",
   "metadata": {},
   "source": [
    "**e)** dataset **Boston Housing**"
   ]
  },
  {
   "cell_type": "code",
   "execution_count": null,
   "metadata": {
    "collapsed": true
   },
   "outputs": [],
   "source": [
    "from sklearn.datasets import load_boston\n",
    "bunch_boston = load_boston()\n",
    "X_train = bunch_boston[\"data\"]\n",
    "Y_train = bunch_boston[\"target\"]"
   ]
  },
  {
   "cell_type": "code",
   "execution_count": null,
   "metadata": {
    "collapsed": true
   },
   "outputs": [],
   "source": [
    "def normaliza(X):\n",
    "    mn = np.mean(X,axis=0)\n",
    "    aux = X - np.ones(X.shape)*mn\n",
    "    sd = np.reciprocal(np.std(aux,axis=0))\n",
    "    Msd = np.ones(X.shape)*sd\n",
    "    return np.multiply(aux,Msd)"
   ]
  },
  {
   "cell_type": "code",
   "execution_count": null,
   "metadata": {
    "collapsed": true
   },
   "outputs": [],
   "source": [
    "X_train_nrm = np.c_[ normaliza(X_train), np.ones(X_train.shape[0])]\n",
    "b0 = np.random.rand(X_train.shape[1]+1)\n",
    "\n",
    "SGD(b0,0.01,1000,X_train_nrm,Y_train,200)"
   ]
  }
 ],
 "metadata": {
  "kernelspec": {
   "display_name": "Python [Root]",
   "language": "python",
   "name": "Python [Root]"
  },
  "language_info": {
   "codemirror_mode": {
    "name": "ipython",
    "version": 3
   },
   "file_extension": ".py",
   "mimetype": "text/x-python",
   "name": "python",
   "nbconvert_exporter": "python",
   "pygments_lexer": "ipython3",
   "version": "3.5.2"
  }
 },
 "nbformat": 4,
 "nbformat_minor": 0
}
