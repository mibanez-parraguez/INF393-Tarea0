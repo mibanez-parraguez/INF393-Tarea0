{
 "cells": [
  {
   "cell_type": "markdown",
   "metadata": {},
   "source": [
    "<img src=\"http://www.exalumnos.usm.cl/wp-content/uploads/2015/06/Isotipo-Negro.gif\" title=\"Title text\" width=\"20%\" height=\"20%\" />\n",
    "\n",
    "\n",
    "<hr style=\"height:2px;border:none\"/>\n",
    "<h1 align='center'> INF-393 Máquinas de Aprendizaje II-2018 </h1>\n",
    "\n",
    "<H3 align='center'> Tarea 0 - Introducción a Máquinas de Aprendizaje </H3>\n",
    "<hr style=\"height:2px;border:none\"/>\n",
    "\n",
    "Integrantes:\n",
    "- Diego Jara - 201304530-8\n",
    "- Miguel Ibáñez - 2990010-8"
   ]
  },
  {
   "cell_type": "code",
   "execution_count": 52,
   "metadata": {},
   "outputs": [],
   "source": [
    "import re, time\n",
    "import numpy as np\n",
    "import pandas as pd\n",
    "import matplotlib.pyplot as plt\n",
    "\n",
    "from sklearn.feature_extraction.text import CountVectorizer\n",
    "from sklearn.linear_model import LinearRegression as LR\n",
    "from sklearn.metrics import mean_absolute_error #measure MAE\n",
    "from sklearn.preprocessing import StandardScaler\n",
    "from sklearn.model_selection import train_test_split\n",
    "\n",
    "from nltk.corpus import stopwords\n",
    "from nltk import WordNetLemmatizer, word_tokenize\n",
    "from nltk.stem.porter import PorterStemmer"
   ]
  },
  {
   "cell_type": "markdown",
   "metadata": {
    "collapsed": true
   },
   "source": [
    "## 2. Job Salary Prediction"
   ]
  },
  {
   "cell_type": "markdown",
   "metadata": {},
   "source": [
    "** a) Lectura de data y sets **"
   ]
  },
  {
   "cell_type": "code",
   "execution_count": 2,
   "metadata": {},
   "outputs": [],
   "source": [
    "df = pd.read_csv(\"Train_rev1.csv\")\n",
    "\n",
    "df_train = df.iloc[:-20000] # Train set\n",
    "df_val = df.iloc[-10000:] # Validation set\n",
    "df_test = df.iloc[-20000:-10000] # Test set\n",
    "\n",
    "msk = np.random.rand(len(df_train)) < 0.05 # Sample del train dataset\n",
    "df_train_subset = df_train[msk]"
   ]
  },
  {
   "cell_type": "code",
   "execution_count": 3,
   "metadata": {},
   "outputs": [
    {
     "name": "stdout",
     "output_type": "stream",
     "text": [
      "Train dataset shape:(11282, 12)\n",
      "Test dataset shape:(10000, 12)\n",
      "<class 'pandas.core.frame.DataFrame'>\n",
      "Int64Index: 11282 entries, 18 to 224753\n",
      "Data columns (total 12 columns):\n",
      "Id                    11282 non-null int64\n",
      "Title                 11282 non-null object\n",
      "FullDescription       11282 non-null object\n",
      "LocationRaw           11282 non-null object\n",
      "LocationNormalized    11282 non-null object\n",
      "ContractType          3110 non-null object\n",
      "ContractTime          8245 non-null object\n",
      "Company               9762 non-null object\n",
      "Category              11282 non-null object\n",
      "SalaryRaw             11282 non-null object\n",
      "SalaryNormalized      11282 non-null int64\n",
      "SourceName            11282 non-null object\n",
      "dtypes: int64(2), object(10)\n",
      "memory usage: 1.1+ MB\n",
      "None\n"
     ]
    }
   ],
   "source": [
    "print(\"Train dataset shape:{}\".format(df_train_subset.shape))\n",
    "print(\"Test dataset shape:{}\".format(df_test.shape))\n",
    "print(df_train_subset.info())"
   ]
  },
  {
   "cell_type": "code",
   "execution_count": 4,
   "metadata": {},
   "outputs": [
    {
     "data": {
      "text/html": [
       "<div>\n",
       "<style scoped>\n",
       "    .dataframe tbody tr th:only-of-type {\n",
       "        vertical-align: middle;\n",
       "    }\n",
       "\n",
       "    .dataframe tbody tr th {\n",
       "        vertical-align: top;\n",
       "    }\n",
       "\n",
       "    .dataframe thead th {\n",
       "        text-align: right;\n",
       "    }\n",
       "</style>\n",
       "<table border=\"1\" class=\"dataframe\">\n",
       "  <thead>\n",
       "    <tr style=\"text-align: right;\">\n",
       "      <th></th>\n",
       "      <th>Id</th>\n",
       "      <th>Title</th>\n",
       "      <th>FullDescription</th>\n",
       "      <th>LocationRaw</th>\n",
       "      <th>LocationNormalized</th>\n",
       "      <th>ContractType</th>\n",
       "      <th>ContractTime</th>\n",
       "      <th>Company</th>\n",
       "      <th>Category</th>\n",
       "      <th>SalaryRaw</th>\n",
       "      <th>SalaryNormalized</th>\n",
       "      <th>SourceName</th>\n",
       "    </tr>\n",
       "  </thead>\n",
       "  <tbody>\n",
       "    <tr>\n",
       "      <th>18</th>\n",
       "      <td>23528672</td>\n",
       "      <td>Senior Fatigue and Damage Tolerance Engineer</td>\n",
       "      <td>Senior Fatigue Static stress (metallic or comp...</td>\n",
       "      <td>Avon, South West</td>\n",
       "      <td>Avon</td>\n",
       "      <td>NaN</td>\n",
       "      <td>permanent</td>\n",
       "      <td>Gregory Martin International</td>\n",
       "      <td>Engineering Jobs</td>\n",
       "      <td>34000 - 45000/annum to 45K</td>\n",
       "      <td>39500</td>\n",
       "      <td>cv-library.co.uk</td>\n",
       "    </tr>\n",
       "    <tr>\n",
       "      <th>22</th>\n",
       "      <td>24835524</td>\n",
       "      <td>Senior Control and Instrumentation Engineer</td>\n",
       "      <td>Senior Control and Instrumentation Engineer . ...</td>\n",
       "      <td>Berkshire, South East</td>\n",
       "      <td>Berkshire</td>\n",
       "      <td>NaN</td>\n",
       "      <td>permanent</td>\n",
       "      <td>Gregory Martin International</td>\n",
       "      <td>Engineering Jobs</td>\n",
       "      <td>36000 - 47000/annum 36K-47K</td>\n",
       "      <td>41500</td>\n",
       "      <td>cv-library.co.uk</td>\n",
       "    </tr>\n",
       "    <tr>\n",
       "      <th>49</th>\n",
       "      <td>29571632</td>\n",
       "      <td>Bar/Waiting Staff  The Refectory, Godalming</td>\n",
       "      <td>We are looking for outgoing, friendly people t...</td>\n",
       "      <td>Milford, Surrey</td>\n",
       "      <td>Milford</td>\n",
       "      <td>NaN</td>\n",
       "      <td>permanent</td>\n",
       "      <td>Brunning &amp; Price</td>\n",
       "      <td>Travel Jobs</td>\n",
       "      <td>6.08 per hour</td>\n",
       "      <td>11673</td>\n",
       "      <td>leisurejobs.com</td>\n",
       "    </tr>\n",
       "    <tr>\n",
       "      <th>85</th>\n",
       "      <td>34061974</td>\n",
       "      <td>Senior Mechanical Engineer (Water)</td>\n",
       "      <td>Senior Mechanical Engineer (Water) We are curr...</td>\n",
       "      <td>Avon, South West</td>\n",
       "      <td>Avon</td>\n",
       "      <td>NaN</td>\n",
       "      <td>permanent</td>\n",
       "      <td>Gregory Martin International</td>\n",
       "      <td>Engineering Jobs</td>\n",
       "      <td>32000 - 41000/annum 32K to 41K + benefits</td>\n",
       "      <td>36500</td>\n",
       "      <td>cv-library.co.uk</td>\n",
       "    </tr>\n",
       "    <tr>\n",
       "      <th>155</th>\n",
       "      <td>44325443</td>\n",
       "      <td>New Business Sales  Various  Financial Markets...</td>\n",
       "      <td>Excelsior Professional Search is a leading exe...</td>\n",
       "      <td>London</td>\n",
       "      <td>London</td>\n",
       "      <td>NaN</td>\n",
       "      <td>NaN</td>\n",
       "      <td>Excelsior Professional Search Ltd</td>\n",
       "      <td>Accounting &amp; Finance Jobs</td>\n",
       "      <td>Basic salaries range from 50,000 to 90,000 + C...</td>\n",
       "      <td>70000</td>\n",
       "      <td>eFinancialCareers</td>\n",
       "    </tr>\n",
       "  </tbody>\n",
       "</table>\n",
       "</div>"
      ],
      "text/plain": [
       "           Id                                              Title  \\\n",
       "18   23528672       Senior Fatigue and Damage Tolerance Engineer   \n",
       "22   24835524        Senior Control and Instrumentation Engineer   \n",
       "49   29571632        Bar/Waiting Staff  The Refectory, Godalming   \n",
       "85   34061974                 Senior Mechanical Engineer (Water)   \n",
       "155  44325443  New Business Sales  Various  Financial Markets...   \n",
       "\n",
       "                                       FullDescription            LocationRaw  \\\n",
       "18   Senior Fatigue Static stress (metallic or comp...       Avon, South West   \n",
       "22   Senior Control and Instrumentation Engineer . ...  Berkshire, South East   \n",
       "49   We are looking for outgoing, friendly people t...        Milford, Surrey   \n",
       "85   Senior Mechanical Engineer (Water) We are curr...       Avon, South West   \n",
       "155  Excelsior Professional Search is a leading exe...                 London   \n",
       "\n",
       "    LocationNormalized ContractType ContractTime  \\\n",
       "18                Avon          NaN    permanent   \n",
       "22           Berkshire          NaN    permanent   \n",
       "49             Milford          NaN    permanent   \n",
       "85                Avon          NaN    permanent   \n",
       "155             London          NaN          NaN   \n",
       "\n",
       "                               Company                   Category  \\\n",
       "18        Gregory Martin International           Engineering Jobs   \n",
       "22        Gregory Martin International           Engineering Jobs   \n",
       "49                    Brunning & Price                Travel Jobs   \n",
       "85        Gregory Martin International           Engineering Jobs   \n",
       "155  Excelsior Professional Search Ltd  Accounting & Finance Jobs   \n",
       "\n",
       "                                             SalaryRaw  SalaryNormalized  \\\n",
       "18                          34000 - 45000/annum to 45K             39500   \n",
       "22                         36000 - 47000/annum 36K-47K             41500   \n",
       "49                                       6.08 per hour             11673   \n",
       "85           32000 - 41000/annum 32K to 41K + benefits             36500   \n",
       "155  Basic salaries range from 50,000 to 90,000 + C...             70000   \n",
       "\n",
       "            SourceName  \n",
       "18    cv-library.co.uk  \n",
       "22    cv-library.co.uk  \n",
       "49     leisurejobs.com  \n",
       "85    cv-library.co.uk  \n",
       "155  eFinancialCareers  "
      ]
     },
     "execution_count": 4,
     "metadata": {},
     "output_type": "execute_result"
    }
   ],
   "source": [
    "df_train_subset.head()"
   ]
  },
  {
   "cell_type": "markdown",
   "metadata": {},
   "source": [
    "**b) Extracción de datos**"
   ]
  },
  {
   "cell_type": "code",
   "execution_count": 5,
   "metadata": {
    "collapsed": true
   },
   "outputs": [],
   "source": [
    "txt_raw_train = df_train_subset.FullDescription\n",
    "txt_raw_val = df_val.FullDescription\n",
    "txt_raw_test = df_test.FullDescription\n",
    "\n",
    "salary_train = np.asarray(df_train_subset[\"SalaryNormalized\"])\n",
    "salary_val = np.asarray(df_val[\"SalaryNormalized\"])\n",
    "salary_test = np.asarray(df_test[\"SalaryNormalized\"])"
   ]
  },
  {
   "cell_type": "markdown",
   "metadata": {},
   "source": [
    "**c) Pre-procesamiento**"
   ]
  },
  {
   "cell_type": "code",
   "execution_count": 6,
   "metadata": {
    "collapsed": true
   },
   "outputs": [],
   "source": [
    "def word_extractor(text):\n",
    "    wordlemmatizer = WordNetLemmatizer()\n",
    "    commonwords = stopwords.words('english')\n",
    "    text = re.sub(r'([a-z])\\1+', r'\\1\\1',text)#substitute multiple letter by two\n",
    "    words = \"\"\n",
    "    wordtokens = [ wordlemmatizer.lemmatize(word.lower())for word in word_tokenize(text) ]\n",
    "    for word in wordtokens:\n",
    "        if word not in commonwords:\n",
    "            words+=\" \"+word\n",
    "    return words"
   ]
  },
  {
   "cell_type": "code",
   "execution_count": 7,
   "metadata": {},
   "outputs": [],
   "source": [
    "texts_train = [word_extractor(text) for text in txt_raw_train]\n",
    "texts_val = [word_extractor(text) for text in txt_raw_val]\n",
    "\n",
    "vectorizer1 = CountVectorizer()\n",
    "vectorizer1.fit(np.asarray(texts_train))\n",
    "\n",
    "features_train = vectorizer1.transform(texts_train)\n",
    "features_val = vectorizer1.transform(texts_val)"
   ]
  },
  {
   "cell_type": "markdown",
   "metadata": {},
   "source": [
    "**d) Regresión**"
   ]
  },
  {
   "cell_type": "code",
   "execution_count": 8,
   "metadata": {},
   "outputs": [
    {
     "name": "stdout",
     "output_type": "stream",
     "text": [
      "F.O. on train:  657784696.644\n",
      "F.O. on validation:  7.4482530436e+12\n",
      "\n",
      "MAE on train:  8.63222102321\n",
      "MAE on validation:  19752.599748\n"
     ]
    }
   ],
   "source": [
    "model = LR(fit_intercept=True, normalize=False)\n",
    "model.fit(features_train,salary_train)\n",
    "\n",
    "LR_fo = lambda x,y: sum((x-y)**2)\n",
    "print(\"F.O. on train: \",LR_fo(salary_train, model.predict(features_train)))\n",
    "print(\"F.O. on validation: \",LR_fo(salary_val, model.predict(features_val)))\n",
    "print()\n",
    "\n",
    "print(\"MAE on train: \",mean_absolute_error(salary_train, model.predict(features_train)))\n",
    "print(\"MAE on validation: \",mean_absolute_error(salary_val, model.predict(features_val)))"
   ]
  },
  {
   "cell_type": "markdown",
   "metadata": {},
   "source": [
    "## 3. Linear Regression by hand"
   ]
  },
  {
   "cell_type": "markdown",
   "metadata": {},
   "source": [
    "**a)** Función de pérdida: error cuadrático medio"
   ]
  },
  {
   "cell_type": "code",
   "execution_count": 212,
   "metadata": {},
   "outputs": [],
   "source": [
    "def MSE(b,X,y):\n",
    "    m = len(y)\n",
    "    predicciones = X.dot(b)\n",
    "    costo = (1/2*m) * np.sum(np.square(predicciones-y))\n",
    "    return costo"
   ]
  },
  {
   "cell_type": "markdown",
   "metadata": {},
   "source": [
    "**b)** Gradiente"
   ]
  },
  {
   "cell_type": "code",
   "execution_count": 217,
   "metadata": {},
   "outputs": [],
   "source": [
    "def gradient(X,y,b,m):\n",
    "    prediccion = np.dot(X,b)\n",
    "    e = prediccion - y\n",
    "    g = np.dot(X.T,e)\n",
    "    return g/m"
   ]
  },
  {
   "cell_type": "markdown",
   "metadata": {},
   "source": [
    "**c)** Regresión lineal analitica"
   ]
  },
  {
   "cell_type": "code",
   "execution_count": 214,
   "metadata": {},
   "outputs": [],
   "source": [
    "# se puede hacer en una línea pero es muy enredado\n",
    "def analytic_LR (Y,X):\n",
    "    a = np.dot(X.T,X)         # (X^T)X\n",
    "    b = np.linalg.inv(a)      # ((X^T)X)^-1\n",
    "    c = np.dot(b,X.T)         # (((X^T)X)^-1)(X^T)\n",
    "    bgorro = np.dot(c,Y)      # ((((X^T)X)^-1)(X^T))Y = beta gorro\n",
    "    return bgorro"
   ]
  },
  {
   "cell_type": "markdown",
   "metadata": {},
   "source": [
    "**d)** Regresión lineal por Stochastic Gradient Descend (SGD)"
   ]
  },
  {
   "cell_type": "code",
   "execution_count": 218,
   "metadata": {},
   "outputs": [],
   "source": [
    "def SGD(X,y,b,eta,N):\n",
    "    m = len(y)\n",
    "    costos = np.zeros(N)\n",
    "    \n",
    "    for iteracion in range(N):\n",
    "        costo = 0.0\n",
    "        for i in range(m):\n",
    "            rand_ind = np.random.randint(0,m)\n",
    "            X_i = X[rand_ind,:].reshape(1,X.shape[1])\n",
    "            y_i = y[rand_ind].reshape(1,1)\n",
    "            prediccion = np.dot(X_i,b)\n",
    "\n",
    "            b = b - eta*gradient(X_i,y_i,b,m)\n",
    "            costo += MSE(b,X_i,y_i)\n",
    "            \n",
    "        costos[iteracion] = costo\n",
    "    return [b, costos]"
   ]
  },
  {
   "cell_type": "markdown",
   "metadata": {},
   "source": [
    "**e)** Análisis dataset **Boston Housing**"
   ]
  },
  {
   "cell_type": "code",
   "execution_count": 219,
   "metadata": {},
   "outputs": [
    {
     "name": "stdout",
     "output_type": "stream",
     "text": [
      "0.0\n",
      "20.137112379074097\n"
     ]
    }
   ],
   "source": [
    "from sklearn.datasets import load_boston\n",
    "X_train,y_train = load_boston(return_X_y=True)\n",
    "scaler = StandardScaler().fit(X_train)\n",
    "X_train = scaler.transform(X_train)\n",
    "\n",
    "# Forma analitica\n",
    "t1=time.time()\n",
    "b_analitica = analytic_LR(Y,X)\n",
    "t2=time.time()\n",
    "tiempo_analitica = float(t2-t1)\n",
    "\n",
    "# Gradiente descendente\n",
    "b0 = np.random.randn(X_train.shape[1],)\n",
    "iteraciones = 1000\n",
    "eta = 0.01\n",
    "t1=time.time()\n",
    "b_sgd, costos = SGD(X_train, y_train, b0, eta, iteraciones)\n",
    "t2=time.time()\n",
    "tiempo_sgd = float(t2-t1)\n",
    "\n",
    "print(tiempo_analitica)\n",
    "print(tiempo_sgd)"
   ]
  },
  {
   "cell_type": "code",
   "execution_count": 220,
   "metadata": {},
   "outputs": [
    {
     "name": "stdout",
     "output_type": "stream",
     "text": [
      "[-0.92041113  1.08098058  0.14296712  0.68220346 -2.06009246  2.67064141\n",
      "  0.02112063 -3.10444805  2.65878654 -2.07589814 -2.06215593  0.85664044\n",
      " -3.74867982]\n",
      "[-0.81994885 -0.78130329 -0.84253473 -0.80129555 -0.79246101 -0.78576597\n",
      " -0.81374757 -0.78608379 -0.78334244 -0.83633938 -0.80852487 -0.78975903\n",
      " -0.79632391]\n"
     ]
    }
   ],
   "source": [
    "print(b_analitica)\n",
    "print(b_sgd[0])"
   ]
  },
  {
   "cell_type": "code",
   "execution_count": 221,
   "metadata": {},
   "outputs": [
    {
     "data": {
      "image/png": "[encoded data removed]",
      "text/plain": [
       "<Figure size 1440x576 with 1 Axes>"
      ]
     },
     "metadata": {
      "needs_background": "light"
     },
     "output_type": "display_data"
    }
   ],
   "source": [
    "fig,ax = plt.subplots(figsize=(20,8))\n",
    "\n",
    "ax.set_ylabel('Costo',rotation=0)\n",
    "ax.set_xlabel('Iteración')\n",
    "\n",
    "_=ax.plot(range(iteraciones),costos,'b.')"
   ]
  },
  {
   "cell_type": "code",
   "execution_count": null,
   "metadata": {},
   "outputs": [],
   "source": []
  }
 ],
 "metadata": {
  "kernelspec": {
   "display_name": "Python 3",
   "language": "python",
   "name": "python3"
  },
  "language_info": {
   "codemirror_mode": {
    "name": "ipython",
    "version": 3
   },
   "file_extension": ".py",
   "mimetype": "text/x-python",
   "name": "python",
   "nbconvert_exporter": "python",
   "pygments_lexer": "ipython3",
   "version": "3.7.0"
  }
 },
 "nbformat": 4,
 "nbformat_minor": 1
}
